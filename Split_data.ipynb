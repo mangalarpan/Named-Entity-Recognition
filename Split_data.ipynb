{
 "cells": [
  {
   "cell_type": "code",
   "execution_count": 1,
   "metadata": {
    "collapsed": true
   },
   "outputs": [],
   "source": [
    "import codecs\n",
    "f = codecs.open('ner.txt', encoding = \"latin\")\n",
    "data = f.read()"
   ]
  },
  {
   "cell_type": "code",
   "execution_count": 2,
   "metadata": {
    "collapsed": true
   },
   "outputs": [],
   "source": [
    "arr = data.split(\"\\n\\n\")"
   ]
  },
  {
   "cell_type": "code",
   "execution_count": 3,
   "metadata": {
    "collapsed": true
   },
   "outputs": [],
   "source": [
    "import numpy as np\n",
    "num = np.random.permutation(len(arr))\n",
    "data_shuffled = []\n",
    "for i in num:\n",
    "    data_shuffled.append(arr[i])\n",
    "i1 = int(len(data_shuffled)*0.7)\n",
    "i2 = int(len(data_shuffled)*0.9)\n",
    "train_data = data_shuffled[: i1]  \n",
    "dev_data = data_shuffled[i1:i2]\n",
    "test_data = data_shuffled[i2:]"
   ]
  },
  {
   "cell_type": "code",
   "execution_count": 4,
   "metadata": {
    "collapsed": true
   },
   "outputs": [],
   "source": [
    "train = \"\"\n",
    "for sen in train_data:\n",
    "    train = train + sen + \"\\n\\n\""
   ]
  },
  {
   "cell_type": "code",
   "execution_count": 5,
   "metadata": {
    "collapsed": true
   },
   "outputs": [],
   "source": [
    "f = open(\"training.txt\",\"w\")\n",
    "f.write(train)\n",
    "f.close()"
   ]
  },
  {
   "cell_type": "code",
   "execution_count": 6,
   "metadata": {
    "collapsed": true
   },
   "outputs": [],
   "source": [
    "dev = \"\"\n",
    "for sen in dev_data:\n",
    "    dev = dev + sen + \"\\n\\n\"\n",
    "f = open(\"dev.txt\",\"w\")\n",
    "f.write(dev)\n",
    "f.close()\n",
    "\n",
    "test = \"\"\n",
    "for sen in test_data:\n",
    "    test = test + sen + \"\\n\\n\"\n",
    "f = open(\"test.txt\",\"w\")\n",
    "f.write(test)\n",
    "f.close()"
   ]
  },
  {
   "cell_type": "code",
   "execution_count": null,
   "metadata": {
    "collapsed": true
   },
   "outputs": [],
   "source": []
  }
 ],
 "metadata": {
  "kernelspec": {
   "display_name": "Python 3",
   "language": "python",
   "name": "python3"
  },
  "language_info": {
   "codemirror_mode": {
    "name": "ipython",
    "version": 3
   },
   "file_extension": ".py",
   "mimetype": "text/x-python",
   "name": "python",
   "nbconvert_exporter": "python",
   "pygments_lexer": "ipython3",
   "version": "3.6.3"
  }
 },
 "nbformat": 4,
 "nbformat_minor": 2
}
